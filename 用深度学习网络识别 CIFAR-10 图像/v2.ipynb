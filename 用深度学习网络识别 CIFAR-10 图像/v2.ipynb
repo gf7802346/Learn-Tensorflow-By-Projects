{
 "cells": [
  {
   "cell_type": "code",
   "execution_count": 1,
   "metadata": {},
   "outputs": [
    {
     "name": "stderr",
     "output_type": "stream",
     "text": [
      "Using TensorFlow backend.\n"
     ]
    }
   ],
   "source": [
    "from keras.datasets import cifar10\n",
    "from keras.utils import np_utils\n",
    "from keras.models import Sequential\n",
    "from keras.layers.core import Dense,Dropout,Activation,Flatten\n",
    "from keras.layers.convolutional import Conv2D, MaxPooling2D\n",
    "from keras.optimizers import SGD, Adam, RMSprop\n",
    "import matplotlib.pyplot as plt"
   ]
  },
  {
   "cell_type": "code",
   "execution_count": 2,
   "metadata": {},
   "outputs": [],
   "source": [
    "# 常量\n",
    "BATCH_SIZE = 128\n",
    "NB_EPOCH = 20\n",
    "NB_CLASSES = 10\n",
    "VERBOSE = 1\n",
    "VALIDATION_SPLIT = 0.2\n",
    "OPTIM = RMSprop()"
   ]
  },
  {
   "cell_type": "code",
   "execution_count": 3,
   "metadata": {},
   "outputs": [],
   "source": [
    "(x_train, y_train), (x_test, y_test) = cifar10.load_data()"
   ]
  },
  {
   "cell_type": "code",
   "execution_count": 4,
   "metadata": {},
   "outputs": [],
   "source": [
    "# 转换为 one-hot 编码\n",
    "y_train = np_utils.to_categorical(y_train, NB_CLASSES)\n",
    "y_test = np_utils.to_categorical(y_test, NB_CLASSES)"
   ]
  },
  {
   "cell_type": "code",
   "execution_count": 5,
   "metadata": {},
   "outputs": [],
   "source": [
    "# float 类型归一化处理\n",
    "x_train = x_train.astype('float32')\n",
    "x_test = x_test.astype('float32')\n",
    "x_train /= 255\n",
    "x_test /= 255"
   ]
  },
  {
   "cell_type": "code",
   "execution_count": 6,
   "metadata": {},
   "outputs": [
    {
     "name": "stdout",
     "output_type": "stream",
     "text": [
      "_________________________________________________________________\n",
      "Layer (type)                 Output Shape              Param #   \n",
      "=================================================================\n",
      "conv2d_1 (Conv2D)            (None, 32, 32, 32)        896       \n",
      "_________________________________________________________________\n",
      "activation_1 (Activation)    (None, 32, 32, 32)        0         \n",
      "_________________________________________________________________\n",
      "conv2d_2 (Conv2D)            (None, 32, 32, 32)        9248      \n",
      "_________________________________________________________________\n",
      "activation_2 (Activation)    (None, 32, 32, 32)        0         \n",
      "_________________________________________________________________\n",
      "max_pooling2d_1 (MaxPooling2 (None, 16, 16, 32)        0         \n",
      "_________________________________________________________________\n",
      "dropout_1 (Dropout)          (None, 16, 16, 32)        0         \n",
      "_________________________________________________________________\n",
      "conv2d_3 (Conv2D)            (None, 16, 16, 64)        18496     \n",
      "_________________________________________________________________\n",
      "activation_3 (Activation)    (None, 16, 16, 64)        0         \n",
      "_________________________________________________________________\n",
      "conv2d_4 (Conv2D)            (None, 14, 14, 64)        36928     \n",
      "_________________________________________________________________\n",
      "activation_4 (Activation)    (None, 14, 14, 64)        0         \n",
      "_________________________________________________________________\n",
      "max_pooling2d_2 (MaxPooling2 (None, 7, 7, 64)          0         \n",
      "_________________________________________________________________\n",
      "dropout_2 (Dropout)          (None, 7, 7, 64)          0         \n",
      "_________________________________________________________________\n",
      "flatten_1 (Flatten)          (None, 3136)              0         \n",
      "_________________________________________________________________\n",
      "dense_1 (Dense)              (None, 512)               1606144   \n",
      "_________________________________________________________________\n",
      "activation_5 (Activation)    (None, 512)               0         \n",
      "_________________________________________________________________\n",
      "dropout_3 (Dropout)          (None, 512)               0         \n",
      "_________________________________________________________________\n",
      "dense_2 (Dense)              (None, 10)                5130      \n",
      "_________________________________________________________________\n",
      "activation_6 (Activation)    (None, 10)                0         \n",
      "=================================================================\n",
      "Total params: 1,676,842\n",
      "Trainable params: 1,676,842\n",
      "Non-trainable params: 0\n",
      "_________________________________________________________________\n"
     ]
    }
   ],
   "source": [
    "model = Sequential()\n",
    "model.add(Conv2D(32, (3, 3), padding='same',input_shape=(32, 32, 3)))\n",
    "model.add(Activation('relu'))\n",
    "model.add(Conv2D(32, (3, 3), padding='same'))\n",
    "model.add(Activation('relu'))\n",
    "model.add(MaxPooling2D(pool_size=(2, 2)))\n",
    "model.add(Dropout(0.25))\n",
    "model.add(Conv2D(64, (3, 3), padding='same'))\n",
    "model.add(Activation('relu'))\n",
    "model.add(Conv2D(64,( 3, 3)))\n",
    "model.add(Activation('relu'))\n",
    "model.add(MaxPooling2D(pool_size=(2, 2)))\n",
    "model.add(Dropout(0.25))\n",
    "model.add(Flatten())\n",
    "model.add(Dense(512))\n",
    "model.add(Activation('relu'))\n",
    "model.add(Dropout(0.5))\n",
    "model.add(Dense(NB_CLASSES))\n",
    "model.add(Activation('softmax'))\n",
    "model.summary()"
   ]
  },
  {
   "cell_type": "code",
   "execution_count": 7,
   "metadata": {},
   "outputs": [
    {
     "name": "stdout",
     "output_type": "stream",
     "text": [
      "Train on 40000 samples, validate on 10000 samples\n",
      "Epoch 1/20\n",
      "40000/40000 [==============================] - 10s 250us/step - loss: 1.7908 - acc: 0.3501 - val_loss: 1.4533 - val_acc: 0.4799\n",
      "Epoch 2/20\n",
      "40000/40000 [==============================] - 8s 210us/step - loss: 1.3292 - acc: 0.5245 - val_loss: 1.1633 - val_acc: 0.5793\n",
      "Epoch 3/20\n",
      "40000/40000 [==============================] - 8s 211us/step - loss: 1.1227 - acc: 0.6039 - val_loss: 1.0749 - val_acc: 0.6180\n",
      "Epoch 4/20\n",
      "40000/40000 [==============================] - 8s 210us/step - loss: 0.9875 - acc: 0.6526 - val_loss: 0.9040 - val_acc: 0.6795\n",
      "Epoch 5/20\n",
      "40000/40000 [==============================] - 8s 210us/step - loss: 0.8908 - acc: 0.6862 - val_loss: 0.8803 - val_acc: 0.6934\n",
      "Epoch 6/20\n",
      "40000/40000 [==============================] - 8s 212us/step - loss: 0.8228 - acc: 0.7116 - val_loss: 0.7974 - val_acc: 0.7190\n",
      "Epoch 7/20\n",
      "40000/40000 [==============================] - 8s 210us/step - loss: 0.7655 - acc: 0.7332 - val_loss: 0.8433 - val_acc: 0.7121\n",
      "Epoch 8/20\n",
      "40000/40000 [==============================] - 8s 211us/step - loss: 0.7171 - acc: 0.7483 - val_loss: 0.7556 - val_acc: 0.7350\n",
      "Epoch 9/20\n",
      "40000/40000 [==============================] - 8s 211us/step - loss: 0.6769 - acc: 0.7643 - val_loss: 0.7274 - val_acc: 0.7472\n",
      "Epoch 10/20\n",
      "40000/40000 [==============================] - 8s 209us/step - loss: 0.6359 - acc: 0.7792 - val_loss: 0.7542 - val_acc: 0.7413\n",
      "Epoch 11/20\n",
      "40000/40000 [==============================] - 8s 209us/step - loss: 0.6202 - acc: 0.7871 - val_loss: 0.7250 - val_acc: 0.7535\n",
      "Epoch 12/20\n",
      "40000/40000 [==============================] - 8s 209us/step - loss: 0.5955 - acc: 0.7944 - val_loss: 0.6745 - val_acc: 0.7718\n",
      "Epoch 13/20\n",
      "40000/40000 [==============================] - 8s 210us/step - loss: 0.5789 - acc: 0.8004 - val_loss: 0.7396 - val_acc: 0.7621\n",
      "Epoch 14/20\n",
      "40000/40000 [==============================] - 8s 208us/step - loss: 0.5722 - acc: 0.8039 - val_loss: 0.6989 - val_acc: 0.7761\n",
      "Epoch 15/20\n",
      "40000/40000 [==============================] - 8s 206us/step - loss: 0.5582 - acc: 0.8107 - val_loss: 0.6677 - val_acc: 0.7786\n",
      "Epoch 16/20\n",
      "40000/40000 [==============================] - 9s 216us/step - loss: 0.5463 - acc: 0.8153 - val_loss: 0.8189 - val_acc: 0.7769\n",
      "Epoch 17/20\n",
      "40000/40000 [==============================] - 9s 213us/step - loss: 0.5468 - acc: 0.8169 - val_loss: 0.7691 - val_acc: 0.7747\n",
      "Epoch 18/20\n",
      "40000/40000 [==============================] - 8s 211us/step - loss: 0.5452 - acc: 0.8165 - val_loss: 0.6718 - val_acc: 0.7779\n",
      "Epoch 19/20\n",
      "40000/40000 [==============================] - 8s 211us/step - loss: 0.5485 - acc: 0.8169 - val_loss: 0.9004 - val_acc: 0.7565\n",
      "Epoch 20/20\n",
      "40000/40000 [==============================] - 9s 214us/step - loss: 0.5359 - acc: 0.8216 - val_loss: 0.6667 - val_acc: 0.7762\n"
     ]
    },
    {
     "data": {
      "text/plain": [
       "<keras.callbacks.History at 0x7f2c360aa780>"
      ]
     },
     "execution_count": 7,
     "metadata": {},
     "output_type": "execute_result"
    }
   ],
   "source": [
    "model.compile(loss='categorical_crossentropy', optimizer=OPTIM, metrics=['accuracy'])\n",
    "model.fit(x_train, y_train, batch_size=BATCH_SIZE, epochs=NB_EPOCH,\n",
    "          validation_split=VALIDATION_SPLIT, verbose=VERBOSE)"
   ]
  },
  {
   "cell_type": "code",
   "execution_count": 8,
   "metadata": {},
   "outputs": [
    {
     "name": "stdout",
     "output_type": "stream",
     "text": [
      "10000/10000 [==============================] - 1s 85us/step\n",
      "score:  0.6904469791412353 accuracy:  0.7739\n"
     ]
    }
   ],
   "source": [
    "score = model.evaluate(x_test, y_test, batch_size=BATCH_SIZE, verbose=VERBOSE)\n",
    "print(\"score: \", score[0], \"accuracy: \", score[1])"
   ]
  }
 ],
 "metadata": {
  "kernelspec": {
   "display_name": "Python 3",
   "language": "python",
   "name": "python3"
  },
  "language_info": {
   "codemirror_mode": {
    "name": "ipython",
    "version": 3
   },
   "file_extension": ".py",
   "mimetype": "text/x-python",
   "name": "python",
   "nbconvert_exporter": "python",
   "pygments_lexer": "ipython3",
   "version": "3.6.8"
  }
 },
 "nbformat": 4,
 "nbformat_minor": 2
}
