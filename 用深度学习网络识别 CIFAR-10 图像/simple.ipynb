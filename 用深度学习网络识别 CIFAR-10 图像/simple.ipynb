{
 "cells": [
  {
   "cell_type": "code",
   "execution_count": 1,
   "metadata": {},
   "outputs": [
    {
     "name": "stderr",
     "output_type": "stream",
     "text": [
      "Using TensorFlow backend.\n"
     ]
    }
   ],
   "source": [
    "from keras.datasets import cifar10\n",
    "from keras.utils import np_utils\n",
    "from keras.models import Sequential\n",
    "from keras.layers.core import Dense,Dropout,Activation,Flatten\n",
    "from keras.layers.convolutional import Conv2D, MaxPooling2D\n",
    "from keras.optimizers import SGD, Adam, RMSprop\n",
    "import matplotlib.pyplot as plt"
   ]
  },
  {
   "cell_type": "code",
   "execution_count": 2,
   "metadata": {},
   "outputs": [],
   "source": [
    "# 常量\n",
    "BATCH_SIZE = 128\n",
    "NB_EPOCH = 20\n",
    "NB_CLASSES = 10\n",
    "VERBOSE = 1\n",
    "VALIDATION_SPLIT = 0.2\n",
    "OPTIM = RMSprop()"
   ]
  },
  {
   "cell_type": "code",
   "execution_count": 3,
   "metadata": {},
   "outputs": [
    {
     "name": "stdout",
     "output_type": "stream",
     "text": [
      "(50000, 32, 32, 3)\n",
      "50000\n",
      "10000\n"
     ]
    }
   ],
   "source": [
    "(x_train, y_train), (x_test, y_test) = cifar10.load_data()\n",
    "print(x_train.shape)\n",
    "print(x_train.shape[0])\n",
    "print(x_test.shape[0])"
   ]
  },
  {
   "cell_type": "code",
   "execution_count": 5,
   "metadata": {},
   "outputs": [],
   "source": [
    "# 转换为 one-hot 编码\n",
    "y_train = np_utils.to_categorical(y_train, NB_CLASSES)\n",
    "y_test = np_utils.to_categorical(y_test, NB_CLASSES)"
   ]
  },
  {
   "cell_type": "code",
   "execution_count": 6,
   "metadata": {},
   "outputs": [
    {
     "name": "stdout",
     "output_type": "stream",
     "text": [
      "[0. 0. 0. 0. 0. 0. 1. 0. 0. 0.]\n"
     ]
    }
   ],
   "source": [
    "print(y_train[0])"
   ]
  },
  {
   "cell_type": "code",
   "execution_count": 7,
   "metadata": {},
   "outputs": [],
   "source": [
    "# float 类型归一化处理\n",
    "x_train = x_train.astype('float32')\n",
    "x_test = x_test.astype('float32')\n",
    "x_train /= 255\n",
    "x_test /= 255"
   ]
  },
  {
   "cell_type": "code",
   "execution_count": 10,
   "metadata": {
    "scrolled": false
   },
   "outputs": [
    {
     "name": "stdout",
     "output_type": "stream",
     "text": [
      "_________________________________________________________________\n",
      "Layer (type)                 Output Shape              Param #   \n",
      "=================================================================\n",
      "conv2d_1 (Conv2D)            (None, 32, 32, 32)        896       \n",
      "_________________________________________________________________\n",
      "activation_1 (Activation)    (None, 32, 32, 32)        0         \n",
      "_________________________________________________________________\n",
      "max_pooling2d_1 (MaxPooling2 (None, 16, 16, 32)        0         \n",
      "_________________________________________________________________\n",
      "dropout_1 (Dropout)          (None, 16, 16, 32)        0         \n",
      "_________________________________________________________________\n",
      "flatten_1 (Flatten)          (None, 8192)              0         \n",
      "_________________________________________________________________\n",
      "dense_1 (Dense)              (None, 512)               4194816   \n",
      "_________________________________________________________________\n",
      "activation_2 (Activation)    (None, 512)               0         \n",
      "_________________________________________________________________\n",
      "dropout_2 (Dropout)          (None, 512)               0         \n",
      "_________________________________________________________________\n",
      "dense_2 (Dense)              (None, 10)                5130      \n",
      "_________________________________________________________________\n",
      "activation_3 (Activation)    (None, 10)                0         \n",
      "=================================================================\n",
      "Total params: 4,200,842\n",
      "Trainable params: 4,200,842\n",
      "Non-trainable params: 0\n",
      "_________________________________________________________________\n"
     ]
    }
   ],
   "source": [
    "model = Sequential()\n",
    "model.add(Conv2D(32, (3, 3), padding='same',\n",
    "                input_shape=(32, 32, 3)))\n",
    "model.add(Activation('relu'))\n",
    "model.add(MaxPooling2D(pool_size=(2, 2)))\n",
    "model.add(Dropout(0.25))\n",
    "model.add(Flatten())\n",
    "model.add(Dense(512))\n",
    "model.add(Activation('relu'))\n",
    "model.add(Dropout(0.5))\n",
    "model.add(Dense(NB_CLASSES))\n",
    "model.add(Activation('softmax'))\n",
    "model.summary()"
   ]
  },
  {
   "cell_type": "code",
   "execution_count": 14,
   "metadata": {
    "scrolled": true
   },
   "outputs": [
    {
     "name": "stdout",
     "output_type": "stream",
     "text": [
      "Train on 40000 samples, validate on 10000 samples\n",
      "Epoch 1/20\n",
      "40000/40000 [==============================] - 8s 201us/step - loss: 1.7663 - acc: 0.3836 - val_loss: 1.5840 - val_acc: 0.4436\n",
      "Epoch 2/20\n",
      "40000/40000 [==============================] - 5s 129us/step - loss: 1.3869 - acc: 0.5084 - val_loss: 1.3149 - val_acc: 0.5248\n",
      "Epoch 3/20\n",
      "40000/40000 [==============================] - 5s 132us/step - loss: 1.2580 - acc: 0.5574 - val_loss: 1.2271 - val_acc: 0.5662\n",
      "Epoch 4/20\n",
      "40000/40000 [==============================] - 5s 128us/step - loss: 1.1659 - acc: 0.5904 - val_loss: 1.2334 - val_acc: 0.5710\n",
      "Epoch 5/20\n",
      "40000/40000 [==============================] - 5s 129us/step - loss: 1.0944 - acc: 0.6143 - val_loss: 1.1675 - val_acc: 0.5883\n",
      "Epoch 6/20\n",
      "40000/40000 [==============================] - 5s 131us/step - loss: 1.0400 - acc: 0.6336 - val_loss: 1.0619 - val_acc: 0.6370\n",
      "Epoch 7/20\n",
      "40000/40000 [==============================] - 5s 129us/step - loss: 0.9889 - acc: 0.6547 - val_loss: 1.0762 - val_acc: 0.6243\n",
      "Epoch 8/20\n",
      "40000/40000 [==============================] - 5s 130us/step - loss: 0.9515 - acc: 0.6678 - val_loss: 1.1246 - val_acc: 0.6077\n",
      "Epoch 9/20\n",
      "40000/40000 [==============================] - 5s 129us/step - loss: 0.9087 - acc: 0.6805 - val_loss: 1.0650 - val_acc: 0.6282\n",
      "Epoch 10/20\n",
      "40000/40000 [==============================] - 5s 133us/step - loss: 0.8730 - acc: 0.6959 - val_loss: 0.9966 - val_acc: 0.6596\n",
      "Epoch 11/20\n",
      "40000/40000 [==============================] - 5s 132us/step - loss: 0.8433 - acc: 0.7063 - val_loss: 0.9702 - val_acc: 0.6699\n",
      "Epoch 12/20\n",
      "40000/40000 [==============================] - 5s 130us/step - loss: 0.8073 - acc: 0.7191 - val_loss: 1.0650 - val_acc: 0.6505\n",
      "Epoch 13/20\n",
      "40000/40000 [==============================] - 5s 129us/step - loss: 0.7759 - acc: 0.7288 - val_loss: 1.0172 - val_acc: 0.6695\n",
      "Epoch 14/20\n",
      "40000/40000 [==============================] - 5s 130us/step - loss: 0.7520 - acc: 0.7394 - val_loss: 1.0671 - val_acc: 0.6543\n",
      "Epoch 15/20\n",
      "40000/40000 [==============================] - 5s 129us/step - loss: 0.7285 - acc: 0.7464 - val_loss: 1.1495 - val_acc: 0.6308\n",
      "Epoch 16/20\n",
      "40000/40000 [==============================] - 5s 132us/step - loss: 0.7067 - acc: 0.7543 - val_loss: 1.2088 - val_acc: 0.6262\n",
      "Epoch 17/20\n",
      "40000/40000 [==============================] - 5s 131us/step - loss: 0.6811 - acc: 0.7651 - val_loss: 1.0873 - val_acc: 0.6690\n",
      "Epoch 18/20\n",
      "40000/40000 [==============================] - 5s 131us/step - loss: 0.6631 - acc: 0.7697 - val_loss: 1.0682 - val_acc: 0.6691\n",
      "Epoch 19/20\n",
      "40000/40000 [==============================] - 5s 130us/step - loss: 0.6462 - acc: 0.7760 - val_loss: 1.0463 - val_acc: 0.6811\n",
      "Epoch 20/20\n",
      "40000/40000 [==============================] - 5s 130us/step - loss: 0.6292 - acc: 0.7823 - val_loss: 1.0384 - val_acc: 0.6781\n"
     ]
    },
    {
     "data": {
      "text/plain": [
       "<keras.callbacks.History at 0x7ffb284f0630>"
      ]
     },
     "execution_count": 14,
     "metadata": {},
     "output_type": "execute_result"
    }
   ],
   "source": [
    "model.compile(loss='categorical_crossentropy', optimizer=OPTIM, metrics=['accuracy'])\n",
    "model.fit(x_train, y_train, batch_size=BATCH_SIZE, epochs=NB_EPOCH,\n",
    "          validation_split=VALIDATION_SPLIT, verbose=VERBOSE)"
   ]
  },
  {
   "cell_type": "code",
   "execution_count": 15,
   "metadata": {},
   "outputs": [
    {
     "name": "stdout",
     "output_type": "stream",
     "text": [
      "10000/10000 [==============================] - 0s 40us/step\n",
      "score:  1.0576414253234863 accuracy:  0.6658\n"
     ]
    }
   ],
   "source": [
    "score = model.evaluate(x_test, y_test, batch_size=BATCH_SIZE, verbose=VERBOSE)\n",
    "print(\"score: \", score[0], \"accuracy: \", score[1])"
   ]
  }
 ],
 "metadata": {
  "kernelspec": {
   "display_name": "Python 3",
   "language": "python",
   "name": "python3"
  },
  "language_info": {
   "codemirror_mode": {
    "name": "ipython",
    "version": 3
   },
   "file_extension": ".py",
   "mimetype": "text/x-python",
   "name": "python",
   "nbconvert_exporter": "python",
   "pygments_lexer": "ipython3",
   "version": "3.6.8"
  }
 },
 "nbformat": 4,
 "nbformat_minor": 2
}
